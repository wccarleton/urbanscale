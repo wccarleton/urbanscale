{
 "cells": [
  {
   "cell_type": "code",
   "execution_count": 64,
   "metadata": {},
   "outputs": [],
   "source": [
    "import pandas as pd\n",
    "import numpy as np\n",
    "from sklearn import linear_model\n",
    "from sklearn.metrics import mean_squared_error, r2_score\n",
    "\n",
    "roman_data = \"../Data/Hanson2016_CitiesDatabase_OxREP.xlsx\"\n",
    "\n",
    "roman_areas = pd.read_excel(roman_data, sheet_name=1, index_col=0)\n",
    "roman_monuments = pd.read_excel(roman_data, sheet_name=2)"
   ]
  },
  {
   "cell_type": "code",
   "execution_count": 68,
   "metadata": {},
   "outputs": [],
   "source": [
    "walls_regex = r'[W|w]all*'\n",
    "walls_bool = roman_areas[\"Estimate Basis\"].str.contains(walls_regex)"
   ]
  },
  {
   "cell_type": "code",
   "execution_count": 66,
   "metadata": {},
   "outputs": [],
   "source": [
    "filter_monument_bool = roman_monuments[\"Structure\"].str.contains(walls_regex)\n",
    "monument_count = roman_monuments[~filter_monument_bool][\"Primary Key\"].value_counts(sort = False)\n",
    "monument_count_df = monument_count.to_frame(name=\"Count\")\n",
    "urban_roman = roman_areas.join(monument_count.to_frame(name=\"Count\"))\n",
    "null_count_bool = urban_roman[\"Count\"].isnull()\n",
    "urban_roman = urban_roman[~null_count_bool]"
   ]
  },
  {
   "cell_type": "code",
   "execution_count": 67,
   "metadata": {},
   "outputs": [
    {
     "name": "stdout",
     "output_type": "stream",
     "text": [
      "Coefficients: \n",
      " (0.6093755048655751, 0.33867840654493914)\n",
      "R^2: 0.18\n"
     ]
    }
   ],
   "source": [
    "x = np.log(urban_roman[\"Area\"].to_numpy()).reshape(-1, 1)\n",
    "y = np.log(urban_roman[\"Count\"].to_numpy())\n",
    "reg = linear_model.LinearRegression()\n",
    "reg.fit(x, y)\n",
    "param_estimates = (reg.intercept_, reg.coef_[0])\n",
    "y_hat = reg.predict(x)\n",
    "print(\"Coefficients: \\n\", param_estimates)\n",
    "print(\"R-squared: %.2f\" % r2_score(y, y_hat))\n"
   ]
  }
 ],
 "metadata": {
  "kernelspec": {
   "display_name": "Python 3",
   "language": "python",
   "name": "python3"
  },
  "language_info": {
   "codemirror_mode": {
    "name": "ipython",
    "version": 3
   },
   "file_extension": ".py",
   "mimetype": "text/x-python",
   "name": "python",
   "nbconvert_exporter": "python",
   "pygments_lexer": "ipython3",
   "version": "3.11.4"
  },
  "orig_nbformat": 4
 },
 "nbformat": 4,
 "nbformat_minor": 2
}
